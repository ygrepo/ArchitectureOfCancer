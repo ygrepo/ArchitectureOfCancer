{
 "cells": [
  {
   "cell_type": "code",
   "execution_count": 2,
   "id": "10c599e2-29c6-43c8-8966-548d592bc2f4",
   "metadata": {
    "tags": []
   },
   "outputs": [],
   "source": [
    "import pandas as pd"
   ]
  },
  {
   "cell_type": "code",
   "execution_count": 5,
   "id": "b4d6623c-fe0a-41d1-9ba3-3599189b582f",
   "metadata": {
    "tags": []
   },
   "outputs": [],
   "source": [
    "path = \"data/small_cancers.txt\"\n",
    "cancer_df = pd.read_csv(path, sep=\"\\t\")"
   ]
  },
  {
   "cell_type": "code",
   "execution_count": 6,
   "id": "f31d30a4-8378-4f4f-902a-710cf08a1ce8",
   "metadata": {
    "tags": []
   },
   "outputs": [
    {
     "data": {
      "text/html": [
       "<div>\n",
       "<style scoped>\n",
       "    .dataframe tbody tr th:only-of-type {\n",
       "        vertical-align: middle;\n",
       "    }\n",
       "\n",
       "    .dataframe tbody tr th {\n",
       "        vertical-align: top;\n",
       "    }\n",
       "\n",
       "    .dataframe thead th {\n",
       "        text-align: right;\n",
       "    }\n",
       "</style>\n",
       "<table border=\"1\" class=\"dataframe\">\n",
       "  <thead>\n",
       "    <tr style=\"text-align: right;\">\n",
       "      <th></th>\n",
       "      <th>locus</th>\n",
       "      <th>alleles</th>\n",
       "      <th>markerID</th>\n",
       "      <th>gene</th>\n",
       "      <th>annotation</th>\n",
       "      <th>call_stats</th>\n",
       "      <th>n_cases</th>\n",
       "      <th>n_controls</th>\n",
       "      <th>heritability</th>\n",
       "      <th>saige_version</th>\n",
       "      <th>...</th>\n",
       "      <th>BETA</th>\n",
       "      <th>SE</th>\n",
       "      <th>AF_Cases</th>\n",
       "      <th>AF_Controls</th>\n",
       "      <th>Pvalue</th>\n",
       "      <th>af_overall</th>\n",
       "      <th>prevalence</th>\n",
       "      <th>beta_binary</th>\n",
       "      <th>variant_variance</th>\n",
       "      <th>beta_per_allele</th>\n",
       "    </tr>\n",
       "  </thead>\n",
       "  <tbody>\n",
       "    <tr>\n",
       "      <th>0</th>\n",
       "      <td>chr1:925920</td>\n",
       "      <td>[\"A\",\"C\"]</td>\n",
       "      <td>chr1:925920_A/C</td>\n",
       "      <td>SAMD11</td>\n",
       "      <td>LC</td>\n",
       "      <td>{\"AC\":1,\"AF\":1.270564079628792E-6,\"AN\":787052,...</td>\n",
       "      <td>3706</td>\n",
       "      <td>391077</td>\n",
       "      <td>0.058759</td>\n",
       "      <td>SAIGE_0.44.5</td>\n",
       "      <td>...</td>\n",
       "      <td>-1.0054</td>\n",
       "      <td>13.917</td>\n",
       "      <td>0.0</td>\n",
       "      <td>0.000001</td>\n",
       "      <td>0.94241</td>\n",
       "      <td>0.000001</td>\n",
       "      <td>0.009387</td>\n",
       "      <td>-0.000155</td>\n",
       "      <td>0.000003</td>\n",
       "      <td>-0.097347</td>\n",
       "    </tr>\n",
       "    <tr>\n",
       "      <th>1</th>\n",
       "      <td>chr1:925920</td>\n",
       "      <td>[\"A\",\"C\"]</td>\n",
       "      <td>chr1:925920_A/C</td>\n",
       "      <td>SAMD11</td>\n",
       "      <td>LC</td>\n",
       "      <td>{\"AC\":1,\"AF\":1.270564079628792E-6,\"AN\":787052,...</td>\n",
       "      <td>938</td>\n",
       "      <td>393845</td>\n",
       "      <td>0.000000</td>\n",
       "      <td>SAIGE_0.44.5</td>\n",
       "      <td>...</td>\n",
       "      <td>-1.0017</td>\n",
       "      <td>25.004</td>\n",
       "      <td>0.0</td>\n",
       "      <td>0.000001</td>\n",
       "      <td>0.96805</td>\n",
       "      <td>0.000001</td>\n",
       "      <td>0.002376</td>\n",
       "      <td>-0.000078</td>\n",
       "      <td>0.000003</td>\n",
       "      <td>-0.048802</td>\n",
       "    </tr>\n",
       "    <tr>\n",
       "      <th>2</th>\n",
       "      <td>chr1:925920</td>\n",
       "      <td>[\"A\",\"C\"]</td>\n",
       "      <td>chr1:925920_A/C</td>\n",
       "      <td>SAMD11</td>\n",
       "      <td>LC</td>\n",
       "      <td>{\"AC\":1,\"AF\":1.270564079628792E-6,\"AN\":787052,...</td>\n",
       "      <td>181</td>\n",
       "      <td>394602</td>\n",
       "      <td>0.144600</td>\n",
       "      <td>SAIGE_0.44.5</td>\n",
       "      <td>...</td>\n",
       "      <td>-1.0008</td>\n",
       "      <td>45.963</td>\n",
       "      <td>0.0</td>\n",
       "      <td>0.000001</td>\n",
       "      <td>0.98263</td>\n",
       "      <td>0.000001</td>\n",
       "      <td>0.000458</td>\n",
       "      <td>-0.000034</td>\n",
       "      <td>0.000003</td>\n",
       "      <td>-0.021417</td>\n",
       "    </tr>\n",
       "  </tbody>\n",
       "</table>\n",
       "<p>3 rows × 36 columns</p>\n",
       "</div>"
      ],
      "text/plain": [
       "         locus    alleles         markerID    gene annotation  \\\n",
       "0  chr1:925920  [\"A\",\"C\"]  chr1:925920_A/C  SAMD11         LC   \n",
       "1  chr1:925920  [\"A\",\"C\"]  chr1:925920_A/C  SAMD11         LC   \n",
       "2  chr1:925920  [\"A\",\"C\"]  chr1:925920_A/C  SAMD11         LC   \n",
       "\n",
       "                                          call_stats  n_cases  n_controls  \\\n",
       "0  {\"AC\":1,\"AF\":1.270564079628792E-6,\"AN\":787052,...     3706      391077   \n",
       "1  {\"AC\":1,\"AF\":1.270564079628792E-6,\"AN\":787052,...      938      393845   \n",
       "2  {\"AC\":1,\"AF\":1.270564079628792E-6,\"AN\":787052,...      181      394602   \n",
       "\n",
       "   heritability saige_version  ...    BETA      SE AF_Cases AF_Controls  \\\n",
       "0      0.058759  SAIGE_0.44.5  ... -1.0054  13.917      0.0    0.000001   \n",
       "1      0.000000  SAIGE_0.44.5  ... -1.0017  25.004      0.0    0.000001   \n",
       "2      0.144600  SAIGE_0.44.5  ... -1.0008  45.963      0.0    0.000001   \n",
       "\n",
       "    Pvalue af_overall  prevalence  beta_binary  variant_variance  \\\n",
       "0  0.94241   0.000001    0.009387    -0.000155          0.000003   \n",
       "1  0.96805   0.000001    0.002376    -0.000078          0.000003   \n",
       "2  0.98263   0.000001    0.000458    -0.000034          0.000003   \n",
       "\n",
       "   beta_per_allele  \n",
       "0        -0.097347  \n",
       "1        -0.048802  \n",
       "2        -0.021417  \n",
       "\n",
       "[3 rows x 36 columns]"
      ]
     },
     "execution_count": 6,
     "metadata": {},
     "output_type": "execute_result"
    }
   ],
   "source": [
    "cancer_df.head(3)"
   ]
  },
  {
   "cell_type": "code",
   "execution_count": 25,
   "id": "41d76879-1742-4d2c-8630-23cb4d8f1585",
   "metadata": {
    "tags": []
   },
   "outputs": [
    {
     "data": {
      "text/plain": [
       "Index(['locus', 'alleles', 'markerID', 'gene', 'annotation', 'call_stats',\n",
       "       'n_cases', 'n_controls', 'heritability', 'saige_version',\n",
       "       'inv_normalized', 'trait_type', 'phenocode', 'pheno_sex', 'coding',\n",
       "       'modifier', 'n_cases_defined', 'n_cases_both_sexes', 'n_cases_females',\n",
       "       'n_cases_males', 'description', 'description_more',\n",
       "       'coding_description', 'category', 'AC', 'AF', 'BETA', 'SE', 'AF_Cases',\n",
       "       'AF_Controls', 'Pvalue', 'af_overall', 'prevalence', 'beta_binary',\n",
       "       'variant_variance', 'beta_per_allele'],\n",
       "      dtype='object')"
      ]
     },
     "execution_count": 25,
     "metadata": {},
     "output_type": "execute_result"
    }
   ],
   "source": [
    "cancer_df.columns"
   ]
  },
  {
   "cell_type": "code",
   "execution_count": 23,
   "id": "d29293d2-6a97-4e75-8023-bf499cd81c9a",
   "metadata": {
    "tags": []
   },
   "outputs": [],
   "source": [
    "path = \"data/mave_data_brn_v2.csv\"\n",
    "mave_df = pd.read_csv(path, sep=\",\")\n",
    "mave_df = mave_df.drop(columns= ['Unnamed: 0'])"
   ]
  },
  {
   "cell_type": "code",
   "execution_count": 24,
   "id": "d1c6890b-5258-4e5b-ad7e-d5bc71e2b2bc",
   "metadata": {
    "tags": []
   },
   "outputs": [
    {
     "data": {
      "text/html": [
       "<div>\n",
       "<style scoped>\n",
       "    .dataframe tbody tr th:only-of-type {\n",
       "        vertical-align: middle;\n",
       "    }\n",
       "\n",
       "    .dataframe tbody tr th {\n",
       "        vertical-align: top;\n",
       "    }\n",
       "\n",
       "    .dataframe thead th {\n",
       "        text-align: right;\n",
       "    }\n",
       "</style>\n",
       "<table border=\"1\" class=\"dataframe\">\n",
       "  <thead>\n",
       "    <tr style=\"text-align: right;\">\n",
       "      <th></th>\n",
       "      <th>gene</th>\n",
       "      <th>id</th>\n",
       "      <th>aapos</th>\n",
       "      <th>aaref</th>\n",
       "      <th>aaalt</th>\n",
       "      <th>ProteinChange</th>\n",
       "      <th>FUSE_score</th>\n",
       "      <th>norm_raw_score</th>\n",
       "      <th>FUSE_score_scaled_study</th>\n",
       "      <th>norm_raw_score_scaled_study</th>\n",
       "      <th>pos_score</th>\n",
       "      <th>raw_score</th>\n",
       "      <th>Transcript_hg38</th>\n",
       "      <th>Transcript_hg38_ensembl</th>\n",
       "      <th>Protein_hg38</th>\n",
       "      <th>Protein_hg38_ensembl</th>\n",
       "      <th>Gene_hg38_ensembl_gene</th>\n",
       "      <th>Uniprot_id</th>\n",
       "      <th>Variant Type</th>\n",
       "    </tr>\n",
       "  </thead>\n",
       "  <tbody>\n",
       "    <tr>\n",
       "      <th>0</th>\n",
       "      <td>ACE2</td>\n",
       "      <td>urn:mavedb:00000069-a-1</td>\n",
       "      <td>19</td>\n",
       "      <td>S</td>\n",
       "      <td>A</td>\n",
       "      <td>ACE2:p.Ser19Ala</td>\n",
       "      <td>0.352468</td>\n",
       "      <td>0.320010</td>\n",
       "      <td>0.584017</td>\n",
       "      <td>0.604274</td>\n",
       "      <td>0.109916</td>\n",
       "      <td>0.060673</td>\n",
       "      <td>NM_021804.2,XM_011545549.2,XM_011545551.3,XM_0...</td>\n",
       "      <td>ENST00000252519,ENST00000427411</td>\n",
       "      <td>ENST00000252519,ENST00000427411</td>\n",
       "      <td>ENSP00000252519,ENSP00000389326</td>\n",
       "      <td>ENSG00000130234</td>\n",
       "      <td>Q9BYF1</td>\n",
       "      <td>missense</td>\n",
       "    </tr>\n",
       "    <tr>\n",
       "      <th>1</th>\n",
       "      <td>ACE2</td>\n",
       "      <td>urn:mavedb:00000069-a-1</td>\n",
       "      <td>19</td>\n",
       "      <td>S</td>\n",
       "      <td>C</td>\n",
       "      <td>ACE2:p.Ser19Cys</td>\n",
       "      <td>0.291033</td>\n",
       "      <td>-0.685052</td>\n",
       "      <td>0.573453</td>\n",
       "      <td>0.457438</td>\n",
       "      <td>0.109916</td>\n",
       "      <td>-1.169052</td>\n",
       "      <td>NM_021804.2,XM_011545549.2,XM_011545551.3,XM_0...</td>\n",
       "      <td>ENST00000252519,ENST00000427411</td>\n",
       "      <td>ENST00000252519,ENST00000427411</td>\n",
       "      <td>ENSP00000252519,ENSP00000389326</td>\n",
       "      <td>ENSG00000130234</td>\n",
       "      <td>Q9BYF1</td>\n",
       "      <td>missense</td>\n",
       "    </tr>\n",
       "    <tr>\n",
       "      <th>2</th>\n",
       "      <td>ACE2</td>\n",
       "      <td>urn:mavedb:00000069-a-1</td>\n",
       "      <td>19</td>\n",
       "      <td>S</td>\n",
       "      <td>D</td>\n",
       "      <td>ACE2:p.Ser19Asp</td>\n",
       "      <td>0.029798</td>\n",
       "      <td>-0.835657</td>\n",
       "      <td>0.528533</td>\n",
       "      <td>0.435435</td>\n",
       "      <td>0.109916</td>\n",
       "      <td>-1.353322</td>\n",
       "      <td>NM_021804.2,XM_011545549.2,XM_011545551.3,XM_0...</td>\n",
       "      <td>ENST00000252519,ENST00000427411</td>\n",
       "      <td>ENST00000252519,ENST00000427411</td>\n",
       "      <td>ENSP00000252519,ENSP00000389326</td>\n",
       "      <td>ENSG00000130234</td>\n",
       "      <td>Q9BYF1</td>\n",
       "      <td>missense</td>\n",
       "    </tr>\n",
       "  </tbody>\n",
       "</table>\n",
       "</div>"
      ],
      "text/plain": [
       "   gene                       id  aapos aaref aaalt    ProteinChange  \\\n",
       "0  ACE2  urn:mavedb:00000069-a-1     19     S     A  ACE2:p.Ser19Ala   \n",
       "1  ACE2  urn:mavedb:00000069-a-1     19     S     C  ACE2:p.Ser19Cys   \n",
       "2  ACE2  urn:mavedb:00000069-a-1     19     S     D  ACE2:p.Ser19Asp   \n",
       "\n",
       "   FUSE_score  norm_raw_score  FUSE_score_scaled_study  \\\n",
       "0    0.352468        0.320010                 0.584017   \n",
       "1    0.291033       -0.685052                 0.573453   \n",
       "2    0.029798       -0.835657                 0.528533   \n",
       "\n",
       "   norm_raw_score_scaled_study  pos_score  raw_score  \\\n",
       "0                     0.604274   0.109916   0.060673   \n",
       "1                     0.457438   0.109916  -1.169052   \n",
       "2                     0.435435   0.109916  -1.353322   \n",
       "\n",
       "                                     Transcript_hg38  \\\n",
       "0  NM_021804.2,XM_011545549.2,XM_011545551.3,XM_0...   \n",
       "1  NM_021804.2,XM_011545549.2,XM_011545551.3,XM_0...   \n",
       "2  NM_021804.2,XM_011545549.2,XM_011545551.3,XM_0...   \n",
       "\n",
       "           Transcript_hg38_ensembl                     Protein_hg38  \\\n",
       "0  ENST00000252519,ENST00000427411  ENST00000252519,ENST00000427411   \n",
       "1  ENST00000252519,ENST00000427411  ENST00000252519,ENST00000427411   \n",
       "2  ENST00000252519,ENST00000427411  ENST00000252519,ENST00000427411   \n",
       "\n",
       "              Protein_hg38_ensembl Gene_hg38_ensembl_gene Uniprot_id  \\\n",
       "0  ENSP00000252519,ENSP00000389326        ENSG00000130234     Q9BYF1   \n",
       "1  ENSP00000252519,ENSP00000389326        ENSG00000130234     Q9BYF1   \n",
       "2  ENSP00000252519,ENSP00000389326        ENSG00000130234     Q9BYF1   \n",
       "\n",
       "  Variant Type  \n",
       "0     missense  \n",
       "1     missense  \n",
       "2     missense  "
      ]
     },
     "execution_count": 24,
     "metadata": {},
     "output_type": "execute_result"
    }
   ],
   "source": [
    "mave_df.head(3)"
   ]
  },
  {
   "cell_type": "code",
   "execution_count": 26,
   "id": "c4b30e87-b114-4f73-b51b-b0231af6e1bd",
   "metadata": {
    "tags": []
   },
   "outputs": [
    {
     "data": {
      "text/plain": [
       "Index(['gene', 'id', 'aapos', 'aaref', 'aaalt', 'ProteinChange', 'FUSE_score',\n",
       "       'norm_raw_score', 'FUSE_score_scaled_study',\n",
       "       'norm_raw_score_scaled_study', 'pos_score', 'raw_score',\n",
       "       'Transcript_hg38', 'Transcript_hg38_ensembl', 'Protein_hg38',\n",
       "       'Protein_hg38_ensembl', 'Gene_hg38_ensembl_gene', 'Uniprot_id',\n",
       "       'Variant Type'],\n",
       "      dtype='object')"
      ]
     },
     "execution_count": 26,
     "metadata": {},
     "output_type": "execute_result"
    }
   ],
   "source": [
    "mave_df.columns"
   ]
  },
  {
   "cell_type": "code",
   "execution_count": 31,
   "id": "04ba974d-babc-4dfd-a28f-c918e1c00d4c",
   "metadata": {},
   "outputs": [
    {
     "data": {
      "text/plain": [
       "array(['ACE2', 'AICDA', 'APP', 'BRAF', 'BRCA1', 'CALM1', 'CBS', 'CCR5',\n",
       "       'CD86', 'CXCR4', 'CYP2C9', 'DLG4', 'ERBB2', 'GCK', 'GDI1', 'GYPA',\n",
       "       'HMBS', 'HRAS', 'KCNQ4', 'MAPK1', 'MPL', 'MSH2', 'MTHFR', 'NCS1',\n",
       "       'NUDT15', 'OTC', 'PSAT1', 'PTEN', 'RAF1', 'SCN5A', 'SNCA', 'SRC',\n",
       "       'SUMO1', 'TARDBP', 'TECR', 'TP53', 'TPK1', 'TPMT', 'UBE2I',\n",
       "       'VKORC1', 'YAP1'], dtype=object)"
      ]
     },
     "execution_count": 31,
     "metadata": {},
     "output_type": "execute_result"
    }
   ],
   "source": [
    "mave_df[\"gene\"].unique()"
   ]
  },
  {
   "cell_type": "code",
   "execution_count": 35,
   "id": "1f5ccedf-7b84-435a-b88e-177b23a2b488",
   "metadata": {
    "tags": []
   },
   "outputs": [],
   "source": [
    "unique_values = mave_df[\"gene\"].unique()\n",
    "\n",
    "# Save the unique values to a file\n",
    "with open('.\\data\\gene_list.txt', 'w') as f:\n",
    "    for name in unique_values:\n",
    "        f.write(name + '\\n')"
   ]
  },
  {
   "cell_type": "code",
   "execution_count": null,
   "id": "8c60ca56-7dc9-4243-9a67-785f31694b46",
   "metadata": {},
   "outputs": [],
   "source": []
  }
 ],
 "metadata": {
  "kernelspec": {
   "display_name": "general_39",
   "language": "python",
   "name": "general_39"
  },
  "language_info": {
   "codemirror_mode": {
    "name": "ipython",
    "version": 3
   },
   "file_extension": ".py",
   "mimetype": "text/x-python",
   "name": "python",
   "nbconvert_exporter": "python",
   "pygments_lexer": "ipython3",
   "version": "3.9.7"
  }
 },
 "nbformat": 4,
 "nbformat_minor": 5
}
